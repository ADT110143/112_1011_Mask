{
 "cells": [
  {
   "cell_type": "code",
   "execution_count": 1,
   "id": "f94405f0",
   "metadata": {},
   "outputs": [
    {
     "name": "stdout",
     "output_type": "stream",
     "text": [
      "黃金回收 -> 1993\n",
      "黃金售出 -> 2020\n"
     ]
    }
   ],
   "source": [
    "# 黃金金價買價\n",
    "\n",
    "import time\n",
    "import urllib.request as request\n",
    "from bs4 import BeautifulSoup as sp\n",
    "import requests\n",
    "\n",
    "local_time = time.ctime(time.time())\n",
    "\n",
    "url=\"https://rate.bot.com.tw/gold?Lang=zh-TW\"\n",
    "\n",
    "with request.urlopen(url) as response:\n",
    "    data=response.read().decode(\"utf-8\")\n",
    "    root=sp(data,\"html.parser\")\n",
    "    #print(root)\n",
    "    gold_in=(root.find_all(\"td\")[5].text.replace(\"回售\",\"\").strip())\n",
    "    print(\"黃金回收 ->\",gold_in)\n",
    "    gold_out=(root.find_all(\"td\")[2].text.replace(\"買進\",\"\").strip())\n",
    "    print(\"黃金買進 ->\",gold_out)\n",
    "   \n",
    "   \n",
    "    #s1=(\"\\nGold\"+\"\\n銀行買進: \"+gold_in+\"\\n銀行賣出: \"+gold_out)\n",
    "    #note=local_time+s1\n",
    "    #print(s1)\n",
    " \n",
    " \n",
    "# 黃金金價買價  加入每一秒自動爬蟲一次\n",
    "#import time\n",
    "#import urllib.request as request\n",
    "#from bs4 import BeautifulSoup as sp\n",
    "#import requests\n",
    "\n",
    "#local_time = time.ctime(time.time())\n",
    "\n",
    "#j=0\n",
    "#while j==0:\n",
    "    #url=\"https://rate.bot.com.tw/gold?Lang=zh-TW\" ###\n",
    "    #with request.urlopen(url) as response:\n",
    "        #data=response.read().decode(\"utf-8\")\n",
    "    #root=sp(data,\"html.parser\")\n",
    "    #gold_in=(root.find_all(\"td\")[5].text.replace(\"回售\",\"\").strip()) ###\n",
    "    #gold_out=(root.find_all(\"td\")[2].text.replace(\"買進\",\"\").strip()) ###\n",
    "    #s1=(\"\\nGold\"+\"\\n銀行買進: \"+gold_in+\"\\n銀行賣出: \"+gold_out) ###\n",
    "    #note=local_time+s1\n",
    "    #print(s1)\n",
    "    #time.sleep(1)"
   ]
  },
  {
   "cell_type": "code",
   "execution_count": null,
   "id": "8434be42",
   "metadata": {},
   "outputs": [],
   "source": []
  }
 ],
 "metadata": {
  "kernelspec": {
   "display_name": "Python 3 (ipykernel)",
   "language": "python",
   "name": "python3"
  },
  "language_info": {
   "codemirror_mode": {
    "name": "ipython",
    "version": 3
   },
   "file_extension": ".py",
   "mimetype": "text/x-python",
   "name": "python",
   "nbconvert_exporter": "python",
   "pygments_lexer": "ipython3",
   "version": "3.11.5"
  }
 },
 "nbformat": 4,
 "nbformat_minor": 5
}
